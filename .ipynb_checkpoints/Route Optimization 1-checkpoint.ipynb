{
 "cells": [
  {
   "cell_type": "markdown",
   "metadata": {},
   "source": [
    "# KniT Anemia Route Optimization"
   ]
  },
  {
   "cell_type": "markdown",
   "metadata": {},
   "source": [
    " ## Objective\n",
    "### a tool that can be used by survey supervisors to optimize the surveying strategy in terms of scheduling village visits and choosing sites for base of operations. \n",
    "\n",
    "### The tool will aid in choosing an optimal survey schedule for the next day, and can be rerun at the end of each day to update the schedule with latest data."
   ]
  },
  {
   "cell_type": "markdown",
   "metadata": {},
   "source": [
    "## Algorithm\n",
    "\n",
    "### Mixed linear programming has been used to solve the problem. \n",
    "\n",
    "### The engine uses Google OR tools, an opensource, free to use library for commercial and research purposes. \n",
    "\n",
    "### The routing library of the Google OR has been used to formulate the problem so as to ensure that the same engine can be easily modified to include other features. https://developers.google.com/reference/constraint_solver/routing/."
   ]
  },
  {
   "cell_type": "markdown",
   "metadata": {},
   "source": [
    "## Version Specification\n",
    "\n",
    "### This version invoves the routing when there are no time constraints associated with the villages\n",
    "\n",
    "### This Version requires 2 files in the same directory for data:   Travel_times.csv and Demands.csv. \n",
    "\n",
    "### Demands.csv has the time requirement of every village encoded in seconds and the column that has the requirement has to specified in the program.  The programe takes by default the column 5 to contain the demands. \n",
    "\n",
    "### Travel_times.csv contains a matrix in the csv format that represent the travel times required to travel from one village to another. Its defined as d[i][j] = time taken to travel from village i to village j."
   ]
  },
  {
   "cell_type": "markdown",
   "metadata": {},
   "source": [
    "# Python code \n"
   ]
  },
  {
   "cell_type": "markdown",
   "metadata": {},
   "source": [
    "## header files"
   ]
  },
  {
   "cell_type": "markdown",
   "metadata": {},
   "source": [
    "importing required libraries for output processing"
   ]
  },
  {
   "cell_type": "code",
   "execution_count": null,
   "metadata": {},
   "outputs": [],
   "source": [
    "from __future__ import print_function\n",
    "from six.moves import xrange"
   ]
  },
  {
   "cell_type": "markdown",
   "metadata": {},
   "source": [
    "set the path to required directory in your system "
   ]
  },
  {
   "cell_type": "code",
   "execution_count": null,
   "metadata": {},
   "outputs": [],
   "source": [
    "import sys\n",
    "sys.path.append(\"F:\\\\projects\\\\ameen\\\\ortools\")"
   ]
  },
  {
   "cell_type": "markdown",
   "metadata": {},
   "source": [
    "import the google or-tools required to solve the problem"
   ]
  },
  {
   "cell_type": "code",
   "execution_count": null,
   "metadata": {},
   "outputs": [],
   "source": [
    "from ortools.constraint_solver import pywrapcp\n",
    "from ortools.constraint_solver import routing_enums_pb2"
   ]
  },
  {
   "cell_type": "markdown",
   "metadata": {},
   "source": [
    "import the csv library for input handling"
   ]
  },
  {
   "cell_type": "code",
   "execution_count": null,
   "metadata": {},
   "outputs": [],
   "source": [
    "import csv"
   ]
  },
  {
   "cell_type": "markdown",
   "metadata": {},
   "source": [
    "## Problem Data Definition"
   ]
  },
  {
   "cell_type": "markdown",
   "metadata": {},
   "source": [
    "### class definition - Vehicle()\n",
    "this class is associated with the properties of one particular vehicle\n",
    "the capacity , which is the maximum time(in seconds) that a vehicle spends outside the central facility is given as an input by the user\n",
    "#### input - max time that can be spend outside the central facility in seconds"
   ]
  },
  {
   "cell_type": "code",
   "execution_count": null,
   "metadata": {},
   "outputs": [],
   "source": [
    "class Vehicle():\n",
    "    \"\"\"Stores the property of a vehicle\"\"\"\n",
    "    def __init__(self):\n",
    "        \"\"\"Initializes the vehicle properties\"\"\"\n",
    "        vehicle_capacity = input()\n",
    "        self._capacity = int(vehicle_capacity)\n",
    "\n",
    "\n",
    "    @property\n",
    "    def capacity(self):\n",
    "        \"\"\"Gets vehicle capacity\"\"\"\n",
    "        return self._capacity\n"
   ]
  },
  {
   "cell_type": "markdown",
   "metadata": {},
   "source": [
    " ### class definition - DataProblem()\n",
    " \n",
    " #### This class handles all the data associated with the problem \n",
    "#### Any change in input methods or formats will have to be reflected in the methods of this class"
   ]
  },
  {
   "cell_type": "code",
   "execution_count": null,
   "metadata": {},
   "outputs": [],
   "source": [
    "class DataProblem():\n",
    "    \"\"\"Stores the data for the problem\"\"\"\n",
    "    def __init__(self):\n",
    "        \"\"\"Initializes the data for the problem\"\"\"\n",
    "        self._vehicle = Vehicle()\n",
    "        #self._num_vehicles = 2\n",
    "\n",
    "        self._depot = 3\n",
    "\n",
    "        self._req_vehicles = 0\n",
    "\n",
    "        #read the demands as a list of lists\n",
    "        with open('test_demands1.csv', 'rU') as f:\n",
    "            list = [i[5] for i in csv.reader(f)]\n",
    "        list.pop(0)\n",
    "        self._demands = [int(i) for i in list]\n",
    "\n",
    "        with open('travel_times.csv', 'rU') as f:\n",
    "            list = [i for i in csv.reader(f)]\n",
    "        list.pop(0)\n",
    "        #loop for the size of list\n",
    "        self._distances = [[int(j) for j in i] for i in list]\n",
    "         \n",
    "\n",
    "        \n",
    "    @property        \n",
    "    def vehicle(self):\n",
    "        \"\"\"Gets a vehicle\"\"\"\n",
    "        return self._vehicle\n",
    "\n",
    "    @property\n",
    "    def demands(self):\n",
    "        \"\"\"Gets demands at each location\"\"\"\n",
    "        return self._demands\n",
    "\n",
    "    @property\n",
    "    def num_locations(self):\n",
    "        \"\"\"Gets number of locations\"\"\"\n",
    "        return len(self.demands)\n",
    "\n",
    "    @property\n",
    "    def num_vehicles(self):\n",
    "        \"\"\"Gets number of vehicles\"\"\"\n",
    "        return len(self.demands)-1\n",
    "\n",
    "    @property\n",
    "    def req_vehicles(self):\n",
    "        \"\"\"Gets number of vehicles\"\"\"\n",
    "        return self._req_vehicles\n",
    "\n",
    "    @property       \n",
    "    def depot(self):\n",
    "        \"\"\"Gets depot location index\"\"\"\n",
    "        return self._depot\n",
    "\n",
    "    @property\n",
    "    def distances(self):\n",
    "        \"\"\"Gets distance between each pair of locations\"\"\"\n",
    "        return self._distances\n",
    "\n",
    "    def printDemands(self):\n",
    "        for i in range(len(self._demands)): \n",
    "            print('{0} , '.format(self._demands[i]))\n",
    "\n",
    "    \"\"\"the formulator is to visit the villages which has more demands than that compleatable in a single visit\"\"\"\n",
    "    \"\"\"that falls outside the scope of optimizationa and should be visited before optimization - so as to reduce the demands to what is compleatable by a single visit\"\"\"\n",
    "    def formulator(self):\n",
    "        print('formulator\\n')\n",
    "\n",
    "        for x in xrange(0, len(self._demands)):\n",
    "            if ((self._demands[x] + 2*self._distances[self._depot][x]) > self._vehicle.capacity):\n",
    "                while ((self._demands[x] + 2*self._distances[self._depot][x]) > self._vehicle.capacity) :\n",
    "                    self._req_vehicles += 1\n",
    "                    \"\"\"updating the demands as we visit the villages\"\"\"\n",
    "                    self._demands[x] -= (self._vehicle.capacity - 2*self._distances[self._depot][x])\n",
    "                    print('Route of Vehilce {}\\n'.format(self._req_vehicles))\n",
    "                    print('{0} Load({1}) -> {2} Load({3}) -> {4} Load({5})\\n'.format(self._depot, 0,  x, self._vehicle.capacity - 2*self._distances[self._depot][x], self._depot, self._vehicle.capacity))"
   ]
  },
  {
   "cell_type": "markdown",
   "metadata": {},
   "source": [
    "##  Problem Constraints"
   ]
  },
  {
   "cell_type": "markdown",
   "metadata": {},
   "source": [
    "### class definition - CreateDistanceEvaluator()\n",
    "#### this class has methods related to the distance(will be stored in terms of time required to travel , in seconds) betwen any pair of villages \n",
    "#### the name distance can be misleading - it represets the time required in seconds"
   ]
  },
  {
   "cell_type": "code",
   "execution_count": null,
   "metadata": {},
   "outputs": [],
   "source": [
    "class CreateDistanceEvaluator(object): # pylint: disable=too-few-public-methods\n",
    "    \"\"\"Creates callback to return distance between points.\"\"\"\n",
    "    def __init__(self, data):\n",
    "        \"\"\"Initializes the distance matrix.\"\"\"\n",
    "        self._distances = data.distances\n",
    "\n",
    "    def distance_evaluator(self, from_node, to_node):\n",
    "        \"\"\"Returns the manhattan distance between the two nodes\"\"\"\n",
    "        return self._distances[from_node][to_node]"
   ]
  },
  {
   "cell_type": "markdown",
   "metadata": {},
   "source": [
    "### class definition - CreateDemandEvaluator()\n",
    "#### this class has methods related to the demands of each village\n",
    "#### demand of a village - time in seconds to be spend at that village to compleate the surey process"
   ]
  },
  {
   "cell_type": "code",
   "execution_count": null,
   "metadata": {},
   "outputs": [],
   "source": [
    "class CreateDemandEvaluator(object): # pylint: disable=too-few-public-methods\n",
    "    \"\"\"Creates callback to get demands at each location.\"\"\"\n",
    "    def __init__(self, data):\n",
    "        \"\"\"Initializes the demand array.\"\"\"\n",
    "        self._demands = data.demands\n",
    "\n",
    "    def demand_evaluator(self, from_node, to_node):\n",
    "        \"\"\"Returns the demand of the current node\"\"\"\n",
    "        del to_node\n",
    "        return self._demands[from_node]\n"
   ]
  },
  {
   "cell_type": "markdown",
   "metadata": {},
   "source": [
    "### class definition - CreateTimeEvaluator()\n",
    "#### this class has methods related to the totla travel time from one village to another \n",
    "#### compleating the survey in a village plus moving to the next village "
   ]
  },
  {
   "cell_type": "code",
   "execution_count": null,
   "metadata": {},
   "outputs": [],
   "source": [
    "class CreateTimeEvaluator(object):\n",
    "    \"\"\"Creates callback to get total times between locations.\"\"\"\n",
    "    @staticmethod\n",
    "    def service_time(data, node):\n",
    "        \"\"\"Gets the service time for the specified location.\"\"\"\n",
    "        return data.demands[node]\n",
    "\n",
    "    @staticmethod\n",
    "    def travel_time(data, from_node, to_node):\n",
    "        \"\"\"Gets the travel times between two locations.\"\"\"\n",
    "        if from_node == to_node:\n",
    "            travel_time = 0\n",
    "        else:\n",
    "            travel_time = data.distances[from_node][to_node]\n",
    "        return travel_time\n",
    "\n",
    "    def __init__(self, data):\n",
    "        \"\"\"Initializes the total time matrix.\"\"\"\n",
    "        self._total_time = {}\n",
    "        # precompute total time to have time callback in O(1)\n",
    "        for from_node in xrange(data.num_locations):\n",
    "            self._total_time[from_node] = {}\n",
    "            for to_node in xrange(data.num_locations):\n",
    "                if from_node == to_node:\n",
    "                    self._total_time[from_node][to_node] = 0\n",
    "                else:\n",
    "                    self._total_time[from_node][to_node] = int(\n",
    "                        self.service_time(data, from_node) +\n",
    "                        self.travel_time(data, from_node, to_node))\n",
    "\n",
    "    def time_evaluator(self, from_node, to_node):\n",
    "        \"\"\"Returns the total time between the two nodes\"\"\"\n",
    "        return self._total_time[from_node][to_node]"
   ]
  },
  {
   "attachments": {},
   "cell_type": "markdown",
   "metadata": {},
   "source": [
    "### function - add capacity constrain to the problem\n",
    "#### The maximum time spent by each group of interviewers outside the central facility (maximum working hour limit) < Q\n"
   ]
  },
  {
   "cell_type": "code",
   "execution_count": null,
   "metadata": {},
   "outputs": [],
   "source": [
    "def add_capacity_constraints(routing, data, time_evaluator):\n",
    "    \"\"\"Adds capacity constraint\"\"\"\n",
    "    capacity = \"Capacity\"\n",
    "    routing.AddDimension(\n",
    "        time_evaluator,\n",
    "        0, # null capacity slack\n",
    "        data.vehicle.capacity, # vehicle maximum capacity\n",
    "        True, # start cumul to zero\n",
    "        capacity)"
   ]
  },
  {
   "cell_type": "markdown",
   "metadata": {},
   "source": []
  }
 ],
 "metadata": {
  "kernelspec": {
   "display_name": "Python 3",
   "language": "python",
   "name": "python3"
  },
  "language_info": {
   "codemirror_mode": {
    "name": "ipython",
    "version": 3
   },
   "file_extension": ".py",
   "mimetype": "text/x-python",
   "name": "python",
   "nbconvert_exporter": "python",
   "pygments_lexer": "ipython3",
   "version": "3.6.4"
  }
 },
 "nbformat": 4,
 "nbformat_minor": 2
}
